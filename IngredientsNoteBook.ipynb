{
 "cells": [
  {
   "cell_type": "code",
   "execution_count": 7,
   "id": "541abf0b",
   "metadata": {},
   "outputs": [],
   "source": [
    "import requests\n",
    "from bs4 import BeautifulSoup\n",
    "import json\n",
    "import random\n",
    "import time\n",
    "import pandas as pd\n",
    "import csv\n",
    "\n",
    "base =\"https://www.halfbakedharvest.com/sitemap_index.xml\"\n",
    "header = {\"User-Agent\": \"ingredient_bot/1.0 (+mailto:jakehowell@duck.com; for educational purposes)\"}"
   ]
  },
  {
   "cell_type": "code",
   "execution_count": 8,
   "id": "03b8ffb1",
   "metadata": {},
   "outputs": [
    {
     "name": "stdout",
     "output_type": "stream",
     "text": [
      "<class 'pandas.core.frame.DataFrame'>\n",
      "RangeIndex: 311 entries, 0 to 310\n",
      "Data columns (total 5 columns):\n",
      " #   Column          Non-Null Count  Dtype \n",
      "---  ------          --------------  ----- \n",
      " 0   recipe_name     311 non-null    object\n",
      " 1   date_published  311 non-null    object\n",
      " 2   url             311 non-null    object\n",
      " 3   ingredients     311 non-null    object\n",
      " 4   keywords        311 non-null    object\n",
      "dtypes: object(5)\n",
      "memory usage: 12.3+ KB\n"
     ]
    }
   ],
   "source": [
    "df = pd.read_csv(\"output.csv\")\n",
    "df.info()"
   ]
  },
  {
   "cell_type": "code",
   "execution_count": 9,
   "id": "493a1665",
   "metadata": {},
   "outputs": [
    {
     "data": {
      "text/plain": [
       "Index(['recipe_name', 'date_published', 'url', 'ingredients', 'keywords'], dtype='object')"
      ]
     },
     "execution_count": 9,
     "metadata": {},
     "output_type": "execute_result"
    }
   ],
   "source": [
    "df.columns"
   ]
  },
  {
   "cell_type": "code",
   "execution_count": 10,
   "id": "64f7ccdf-6895-4f02-93e0-63c9187ec8d3",
   "metadata": {},
   "outputs": [
    {
     "data": {
      "text/html": [
       "<div>\n",
       "<style scoped>\n",
       "    .dataframe tbody tr th:only-of-type {\n",
       "        vertical-align: middle;\n",
       "    }\n",
       "\n",
       "    .dataframe tbody tr th {\n",
       "        vertical-align: top;\n",
       "    }\n",
       "\n",
       "    .dataframe thead th {\n",
       "        text-align: right;\n",
       "    }\n",
       "</style>\n",
       "<table border=\"1\" class=\"dataframe\">\n",
       "  <thead>\n",
       "    <tr style=\"text-align: right;\">\n",
       "      <th></th>\n",
       "      <th>recipe_name</th>\n",
       "      <th>date_published</th>\n",
       "      <th>url</th>\n",
       "      <th>ingredients</th>\n",
       "      <th>keywords</th>\n",
       "    </tr>\n",
       "  </thead>\n",
       "  <tbody>\n",
       "    <tr>\n",
       "      <th>0</th>\n",
       "      <td>Strawberry Margarita Cream Filled Donuts</td>\n",
       "      <td>2013-05-03T10:00:51+00:00</td>\n",
       "      <td>https://www.halfbakedharvest.com/strawberry-ma...</td>\n",
       "      <td>['milk', 'sugar', 'instant or active dry yeast...</td>\n",
       "      <td>['cinco de mayo', 'donut', 'doughnut', 'margar...</td>\n",
       "    </tr>\n",
       "    <tr>\n",
       "      <th>1</th>\n",
       "      <td>Teriyaki Chicken Sub Sandwiches</td>\n",
       "      <td>2013-05-02T10:00:06+00:00</td>\n",
       "      <td>https://www.halfbakedharvest.com/teriyaki-chic...</td>\n",
       "      <td>['boneless skinless chicken', 'red bell pepper...</td>\n",
       "      <td>['asian', 'Chicken', 'Chinese', 'dinner teriya...</td>\n",
       "    </tr>\n",
       "    <tr>\n",
       "      <th>2</th>\n",
       "      <td>Tortilla Chip Crusted Chicken Salad with Avoca...</td>\n",
       "      <td>2013-05-01T10:00:16+00:00</td>\n",
       "      <td>https://www.halfbakedharvest.com/tortilla-chip...</td>\n",
       "      <td>['boneless', 'salt', 'pepper', 'egg whites', '...</td>\n",
       "      <td>['avocado', 'Chicken', 'chipotle', 'cinco de m...</td>\n",
       "    </tr>\n",
       "    <tr>\n",
       "      <th>3</th>\n",
       "      <td>Margarita Chicken Quesadilla with Margarita Gu...</td>\n",
       "      <td>2013-04-29T10:00:14+00:00</td>\n",
       "      <td>https://www.halfbakedharvest.com/margarita-chi...</td>\n",
       "      <td>['boneless skinless chicken breast or tenders'...</td>\n",
       "      <td>['avocado', 'Chicken', 'cinco de mayo', 'dinne...</td>\n",
       "    </tr>\n",
       "    <tr>\n",
       "      <th>4</th>\n",
       "      <td>Crunchy Oatmeal Peanut Butter Oats &amp;#8216;n Ho...</td>\n",
       "      <td>2013-04-28T10:00:28+00:00</td>\n",
       "      <td>https://www.halfbakedharvest.com/crunchy-oatme...</td>\n",
       "      <td>['rolled oats', 'rice crispies cereal', 'roast...</td>\n",
       "      <td>['bars', 'crunchy', 'Healthy', 'nature valley'...</td>\n",
       "    </tr>\n",
       "  </tbody>\n",
       "</table>\n",
       "</div>"
      ],
      "text/plain": [
       "                                         recipe_name  \\\n",
       "0           Strawberry Margarita Cream Filled Donuts   \n",
       "1                    Teriyaki Chicken Sub Sandwiches   \n",
       "2  Tortilla Chip Crusted Chicken Salad with Avoca...   \n",
       "3  Margarita Chicken Quesadilla with Margarita Gu...   \n",
       "4  Crunchy Oatmeal Peanut Butter Oats &#8216;n Ho...   \n",
       "\n",
       "              date_published  \\\n",
       "0  2013-05-03T10:00:51+00:00   \n",
       "1  2013-05-02T10:00:06+00:00   \n",
       "2  2013-05-01T10:00:16+00:00   \n",
       "3  2013-04-29T10:00:14+00:00   \n",
       "4  2013-04-28T10:00:28+00:00   \n",
       "\n",
       "                                                 url  \\\n",
       "0  https://www.halfbakedharvest.com/strawberry-ma...   \n",
       "1  https://www.halfbakedharvest.com/teriyaki-chic...   \n",
       "2  https://www.halfbakedharvest.com/tortilla-chip...   \n",
       "3  https://www.halfbakedharvest.com/margarita-chi...   \n",
       "4  https://www.halfbakedharvest.com/crunchy-oatme...   \n",
       "\n",
       "                                         ingredients  \\\n",
       "0  ['milk', 'sugar', 'instant or active dry yeast...   \n",
       "1  ['boneless skinless chicken', 'red bell pepper...   \n",
       "2  ['boneless', 'salt', 'pepper', 'egg whites', '...   \n",
       "3  ['boneless skinless chicken breast or tenders'...   \n",
       "4  ['rolled oats', 'rice crispies cereal', 'roast...   \n",
       "\n",
       "                                            keywords  \n",
       "0  ['cinco de mayo', 'donut', 'doughnut', 'margar...  \n",
       "1  ['asian', 'Chicken', 'Chinese', 'dinner teriya...  \n",
       "2  ['avocado', 'Chicken', 'chipotle', 'cinco de m...  \n",
       "3  ['avocado', 'Chicken', 'cinco de mayo', 'dinne...  \n",
       "4  ['bars', 'crunchy', 'Healthy', 'nature valley'...  "
      ]
     },
     "execution_count": 10,
     "metadata": {},
     "output_type": "execute_result"
    }
   ],
   "source": [
    "df.head()"
   ]
  },
  {
   "cell_type": "code",
   "execution_count": 11,
   "id": "c142b69c-1126-4f91-9b2c-7f8f96af09b8",
   "metadata": {},
   "outputs": [
    {
     "data": {
      "text/plain": [
       "count     311\n",
       "unique    275\n",
       "top        []\n",
       "freq       37\n",
       "Name: ingredients, dtype: object"
      ]
     },
     "execution_count": 11,
     "metadata": {},
     "output_type": "execute_result"
    }
   ],
   "source": [
    "df['ingredients'].describe()"
   ]
  },
  {
   "cell_type": "code",
   "execution_count": 13,
   "id": "b5786819-24ce-4c37-8add-4bca536adbf0",
   "metadata": {},
   "outputs": [
    {
     "data": {
      "text/plain": [
       "1006"
      ]
     },
     "execution_count": 13,
     "metadata": {},
     "output_type": "execute_result"
    }
   ],
   "source": [
    "base =\"https://www.halfbakedharvest.com/sitemap_index.xml\"\n",
    "header = {\"User-Agent\": \"ingredient_bot/1.0 (+mailto:jakehowell@duck.com; for educational purposes)\"}\n",
    "\n",
    "def parseXML(url):\n",
    "    site_mapXML = requests.get(url, headers = header,)\n",
    "\n",
    "    soup = BeautifulSoup(site_mapXML.text, \"xml\")\n",
    "\n",
    "    site_maps = []\n",
    "    for loc_tag in soup.find_all(\"loc\"):\n",
    "        loc_tag = loc_tag.get_text(strip = True)\n",
    "        if loc_tag[-3:] == \"jpg\" or loc_tag[-3:] == \"png\" or loc_tag[-4:] == \"jpeg\":\n",
    "            continue\n",
    "        elif loc_tag[-3:] != \"jpg\" or loc_tag[-3:] == \"png\" and loc_tag not in site_maps:\n",
    "            site_maps.append(loc_tag)\n",
    "    return site_maps\n",
    "\n",
    "site_map = parseXML(base)\n",
    "\n",
    "links = []\n",
    "links.append(parseXML(site_map[1]))\n",
    "len(links[0])"
   ]
  },
  {
   "cell_type": "code",
   "execution_count": null,
   "id": "bd588e3b-5414-4097-b3c5-0b652e0d6cf7",
   "metadata": {},
   "outputs": [],
   "source": []
  },
  {
   "cell_type": "code",
   "execution_count": null,
   "id": "84618e8b-6133-4d47-bb41-3f9cd808216f",
   "metadata": {},
   "outputs": [],
   "source": []
  },
  {
   "cell_type": "code",
   "execution_count": null,
   "id": "2a20ae9d-7b37-4398-875c-5607cedfb9b4",
   "metadata": {},
   "outputs": [],
   "source": []
  },
  {
   "cell_type": "code",
   "execution_count": null,
   "id": "4fd75f0e-1849-46c7-b98d-bbae0d892e8c",
   "metadata": {},
   "outputs": [],
   "source": []
  }
 ],
 "metadata": {
  "kernelspec": {
   "display_name": "Python 3",
   "language": "python",
   "name": "python3"
  },
  "language_info": {
   "codemirror_mode": {
    "name": "ipython",
    "version": 3
   },
   "file_extension": ".py",
   "mimetype": "text/x-python",
   "name": "python",
   "nbconvert_exporter": "python",
   "pygments_lexer": "ipython3",
   "version": "3.13.7"
  }
 },
 "nbformat": 4,
 "nbformat_minor": 5
}
