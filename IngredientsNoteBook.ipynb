{
 "cells": [
  {
   "cell_type": "code",
   "execution_count": 1,
   "id": "541abf0b",
   "metadata": {},
   "outputs": [],
   "source": [
    "import requests\n",
    "from bs4 import BeautifulSoup\n",
    "import json\n",
    "import random\n",
    "import time\n",
    "import pandas as pd\n",
    "\n",
    "base =\"https://www.halfbakedharvest.com/sitemap_index.xml\"\n",
    "header = {\"User-Agent\": \"ingredient_bot/1.0 (+mailto:jakehowell@duck.com; for educational purposes)\"}"
   ]
  },
  {
   "cell_type": "code",
   "execution_count": 2,
   "id": "4d80268a",
   "metadata": {},
   "outputs": [],
   "source": [
    "def parseXML(url):\n",
    "    site_mapXML = requests.get(url, headers = header,)\n",
    "\n",
    "    soup = BeautifulSoup(site_mapXML.text, \"xml\")\n",
    "\n",
    "    site_maps = []\n",
    "    for loc_tag in soup.find_all(\"loc\"):\n",
    "        loc_tag = loc_tag.get_text(strip = True)\n",
    "        if loc_tag[-3:] == \"jpg\":\n",
    "            continue\n",
    "        elif loc_tag[-3:] != \"jpg\" and loc_tag not in site_maps:\n",
    "            site_maps.append(loc_tag)\n",
    "    return site_maps"
   ]
  },
  {
   "cell_type": "code",
   "execution_count": 3,
   "id": "1ac52e5c",
   "metadata": {},
   "outputs": [
    {
     "name": "stdout",
     "output_type": "stream",
     "text": [
      "['https://www.halfbakedharvest.com/post-sitemap.xml', 'https://www.halfbakedharvest.com/post-sitemap2.xml', 'https://www.halfbakedharvest.com/post-sitemap3.xml', 'https://www.halfbakedharvest.com/post-sitemap4.xml', 'https://www.halfbakedharvest.com/post-sitemap5.xml', 'https://www.halfbakedharvest.com/page-sitemap.xml', 'https://www.halfbakedharvest.com/web-story-sitemap.xml', 'https://www.halfbakedharvest.com/category-sitemap.xml', 'https://www.halfbakedharvest.com/video-sitemap.xml']\n"
     ]
    }
   ],
   "source": [
    "site_map = parseXML(base)\n",
    "print(site_map)\n"
   ]
  },
  {
   "cell_type": "code",
   "execution_count": 4,
   "id": "e74c2ea4",
   "metadata": {},
   "outputs": [
    {
     "data": {
      "text/plain": [
       "['https://www.halfbakedharvest.com/strawberry-margarita-cream-filled-donuts/',\n",
       " 'https://www.halfbakedharvest.com/teriyaki-chicken-sub-sandwiches/',\n",
       " 'https://www.halfbakedharvest.com/tortilla-chip-crusted-chicken-salad-with-avocado-chipotle-lime-dressing-and-queso-fresco/',\n",
       " 'https://www.halfbakedharvest.com/margarita-chicken-quesadilla-with-margarita-guacamole/',\n",
       " 'https://www.halfbakedharvest.com/crunchy-oatmeal-peanut-butter-oats-n-honey-bars/',\n",
       " 'https://www.halfbakedharvest.com/brown-butter-crepe-ice-cream-tacos/',\n",
       " 'https://www.halfbakedharvest.com/whipped-feta-and-roasted-jalapeno-greek-pizza/',\n",
       " 'https://www.halfbakedharvest.com/jerk-chicken-with-fired-rice-and-grilled-pineapple-salsa/',\n",
       " 'https://www.halfbakedharvest.com/chocolate-peanut-butter-swirl-fudge-brownie-ice-cream/',\n",
       " 'https://www.halfbakedharvest.com/cinnamon-crunch-bagels/']"
      ]
     },
     "execution_count": 4,
     "metadata": {},
     "output_type": "execute_result"
    }
   ],
   "source": [
    "links = []\n",
    "links.append(parseXML(site_map[1]))\n",
    "len(links[0])\n",
    "first_ten_links = links[0][0:10]\n",
    "first_ten_links"
   ]
  },
  {
   "cell_type": "code",
   "execution_count": 5,
   "id": "03b8ffb1",
   "metadata": {},
   "outputs": [
    {
     "data": {
      "text/html": [
       "<div>\n",
       "<style scoped>\n",
       "    .dataframe tbody tr th:only-of-type {\n",
       "        vertical-align: middle;\n",
       "    }\n",
       "\n",
       "    .dataframe tbody tr th {\n",
       "        vertical-align: top;\n",
       "    }\n",
       "\n",
       "    .dataframe thead th {\n",
       "        text-align: right;\n",
       "    }\n",
       "</style>\n",
       "<table border=\"1\" class=\"dataframe\">\n",
       "  <thead>\n",
       "    <tr style=\"text-align: right;\">\n",
       "      <th></th>\n",
       "      <th>url</th>\n",
       "      <th>recipe_name</th>\n",
       "      <th>ingredients</th>\n",
       "    </tr>\n",
       "  </thead>\n",
       "  <tbody>\n",
       "    <tr>\n",
       "      <th>0</th>\n",
       "      <td>https://www.halfbakedharvest.com/strawberry-ma...</td>\n",
       "      <td>Strawberry Margarita Cream Filled Donuts</td>\n",
       "      <td>['1 1/8 cups milk (warm)', '1/4 cup sugar', '2...</td>\n",
       "    </tr>\n",
       "    <tr>\n",
       "      <th>1</th>\n",
       "      <td>https://www.halfbakedharvest.com/teriyaki-chic...</td>\n",
       "      <td>Teriyaki Chicken Sub Sandwiches</td>\n",
       "      <td>['1 pound boneless skinless chicken (cut into ...</td>\n",
       "    </tr>\n",
       "    <tr>\n",
       "      <th>2</th>\n",
       "      <td>https://www.halfbakedharvest.com/tortilla-chip...</td>\n",
       "      <td>Tortilla Chip Crusted Chicken Salad with Avoca...</td>\n",
       "      <td>['4  boneless (skinless chicken breasts, cut i...</td>\n",
       "    </tr>\n",
       "    <tr>\n",
       "      <th>3</th>\n",
       "      <td>https://www.halfbakedharvest.com/margarita-chi...</td>\n",
       "      <td>Margarita Chicken Quesadilla with Margarita Gu...</td>\n",
       "      <td>['1 pound boneless skinless chicken breast or ...</td>\n",
       "    </tr>\n",
       "    <tr>\n",
       "      <th>4</th>\n",
       "      <td>https://www.halfbakedharvest.com/crunchy-oatme...</td>\n",
       "      <td>Crunchy Oatmeal Peanut Butter Oats &amp;#8216;n Ho...</td>\n",
       "      <td>['3 cups rolled oats (use gluten free oats for...</td>\n",
       "    </tr>\n",
       "  </tbody>\n",
       "</table>\n",
       "</div>"
      ],
      "text/plain": [
       "                                                 url  \\\n",
       "0  https://www.halfbakedharvest.com/strawberry-ma...   \n",
       "1  https://www.halfbakedharvest.com/teriyaki-chic...   \n",
       "2  https://www.halfbakedharvest.com/tortilla-chip...   \n",
       "3  https://www.halfbakedharvest.com/margarita-chi...   \n",
       "4  https://www.halfbakedharvest.com/crunchy-oatme...   \n",
       "\n",
       "                                         recipe_name  \\\n",
       "0           Strawberry Margarita Cream Filled Donuts   \n",
       "1                    Teriyaki Chicken Sub Sandwiches   \n",
       "2  Tortilla Chip Crusted Chicken Salad with Avoca...   \n",
       "3  Margarita Chicken Quesadilla with Margarita Gu...   \n",
       "4  Crunchy Oatmeal Peanut Butter Oats &#8216;n Ho...   \n",
       "\n",
       "                                         ingredients  \n",
       "0  ['1 1/8 cups milk (warm)', '1/4 cup sugar', '2...  \n",
       "1  ['1 pound boneless skinless chicken (cut into ...  \n",
       "2  ['4  boneless (skinless chicken breasts, cut i...  \n",
       "3  ['1 pound boneless skinless chicken breast or ...  \n",
       "4  ['3 cups rolled oats (use gluten free oats for...  "
      ]
     },
     "execution_count": 5,
     "metadata": {},
     "output_type": "execute_result"
    }
   ],
   "source": [
    "df = pd.read_csv(\"output.csv\")\n",
    "df.head()"
   ]
  },
  {
   "cell_type": "code",
   "execution_count": 6,
   "id": "3616055a",
   "metadata": {},
   "outputs": [
    {
     "name": "stdout",
     "output_type": "stream",
     "text": [
      "Url: https://www.halfbakedharvest.com/strawberry-margarita-cream-filled-donuts/, already exists in dataset\n",
      "Url: https://www.halfbakedharvest.com/teriyaki-chicken-sub-sandwiches/, already exists in dataset\n",
      "Url: https://www.halfbakedharvest.com/tortilla-chip-crusted-chicken-salad-with-avocado-chipotle-lime-dressing-and-queso-fresco/, already exists in dataset\n",
      "Url: https://www.halfbakedharvest.com/margarita-chicken-quesadilla-with-margarita-guacamole/, already exists in dataset\n",
      "Url: https://www.halfbakedharvest.com/crunchy-oatmeal-peanut-butter-oats-n-honey-bars/, already exists in dataset\n",
      "Url: https://www.halfbakedharvest.com/brown-butter-crepe-ice-cream-tacos/, already exists in dataset\n",
      "Url: https://www.halfbakedharvest.com/whipped-feta-and-roasted-jalapeno-greek-pizza/, already exists in dataset\n",
      "Url: https://www.halfbakedharvest.com/jerk-chicken-with-fired-rice-and-grilled-pineapple-salsa/, already exists in dataset\n",
      "Url: https://www.halfbakedharvest.com/chocolate-peanut-butter-swirl-fudge-brownie-ice-cream/, already exists in dataset\n",
      "Url: https://www.halfbakedharvest.com/cinnamon-crunch-bagels/, already exists in dataset\n",
      "Url: https://www.halfbakedharvest.com/death-by-chocolate-cupcakes/, already exists in dataset\n",
      "Url: https://www.halfbakedharvest.com/bani-mi-asian-burgers/, already exists in dataset\n",
      "Url: https://www.halfbakedharvest.com/grilled-banana-bread-peanut-butter-smore-with-vanilla-marshmallows/, already exists in dataset\n",
      "Url: https://www.halfbakedharvest.com/grilled-tex-mex-chicken-and-quinoa-wraps/, already exists in dataset\n",
      "Url: https://www.halfbakedharvest.com/whole-wheat-graham-cracker-banana-bread/, already exists in dataset\n",
      "Url: https://www.halfbakedharvest.com/chocolate-chip-cookie-dough-special-k-bars/, already exists in dataset\n",
      "Url: https://www.halfbakedharvest.com/grilled-buffalo-shrimp-sandwiches-with-spicy-avocado-ranch/, already exists in dataset\n",
      "Url: https://www.halfbakedharvest.com/spring-vegetable-lo-mein/, already exists in dataset\n",
      "Url: https://www.halfbakedharvest.com/honey-mustard-pretzel-crusted-chicken-salad-with-spicy-honey-mustard-dressing/, already exists in dataset\n",
      "Url: https://www.halfbakedharvest.com/homemade-barbecue-sauce-just-like-sweet-baby-rays/, already exists in dataset\n",
      "Url: https://www.halfbakedharvest.com/ridiculously-easy-no-bake-peanut-butter-pretzel-cookies/, already exists in dataset\n",
      "Url: https://www.halfbakedharvest.com/double-baked-fries-with-garlic-cheese-sauce-and-bacon/, already exists in dataset\n",
      "Url: https://www.halfbakedharvest.com/chipotle-mexican-steak-and-rice-burritos/, already exists in dataset\n",
      "Url: https://www.halfbakedharvest.com/gooey-chocolate-oreo-crunch-butter-cake/, already exists in dataset\n",
      "Url: https://www.halfbakedharvest.com/greek-tuna-sun-dried-tomato-avocado-napoleons/, already exists in dataset\n",
      "Url: https://www.halfbakedharvest.com/toasted-coconut-caramel-chocolate-cupcakes/, already exists in dataset\n",
      "Url: https://www.halfbakedharvest.com/roasted-garlic-chipotle-cheddar-sweet-potato-burgers-with-avocado-ranch/, already exists in dataset\n",
      "Url: https://www.halfbakedharvest.com/homemade-dq-reeses-peanut-butter-eggs-blizzard/, already exists in dataset\n",
      "Url: https://www.halfbakedharvest.com/spinach-and-artichoke-pizza/, already exists in dataset\n",
      "Url: https://www.halfbakedharvest.com/avocado-and-vietnamese-chicken-springs-rolls/, already exists in dataset\n",
      "Url: https://www.halfbakedharvest.com/super-healthy-breakfast-or-anytime-cookies/, already exists in dataset\n",
      "Url: https://www.halfbakedharvest.com/roasted-asparagus-caprese-melts-with-balsamic-reduction-and-fried-egg/, already exists in dataset\n",
      "Url: https://www.halfbakedharvest.com/chocolate-covered-peanut-butter-ritz-sandwiches-the-bunny-edition/, already exists in dataset\n",
      "Url: https://www.halfbakedharvest.com/asian-grilled-salmon-pineapple-and-rice-lettuce-wraps/, already exists in dataset\n",
      "Url: https://www.halfbakedharvest.com/lightened-up-chocolate-peanut-butter-upside-down-banana-cake/, already exists in dataset\n",
      "Url: https://www.halfbakedharvest.com/crispy-gnocchi-with-pistachio-pesto/, already exists in dataset\n",
      "Url: https://www.halfbakedharvest.com/just-like-nature-valleys-oats-n-honeys-bars-actually-they-are-better/, already exists in dataset\n",
      "Success: https://www.halfbakedharvest.com/towering-flourless-chocolate-stout-cakes/ (status 200)\n",
      "9 more links.\n",
      "Sleeping 1.61s before next request...\n",
      "Success: https://www.halfbakedharvest.com/creamy-avocado-and-gouda-cheese-pasta/ (status 200)\n"
     ]
    }
   ],
   "source": [
    "s = requests.Session()\n",
    "counter = 0\n",
    "\n",
    "for url in links[0]:\n",
    "    if url in set(df['url'].values):\n",
    "        print(f\"Url: {url}, already exists in dataset\")\n",
    "        continue\n",
    "    resp = s.get(url, headers = header)\n",
    "    soup = BeautifulSoup(resp.text, \"html.parser\")\n",
    "\n",
    "    scripts = soup.find(\"script\", type = \"application/ld+json\")\n",
    "    data = json.loads(scripts.string)\n",
    "\n",
    "    all_recipe_data = data[\"@graph\"]\n",
    "    for obj in all_recipe_data:\n",
    "        if obj[\"@type\"] == \"Recipe\":\n",
    "            recipe = obj\n",
    "    ingredients = recipe[\"recipeIngredient\"]\n",
    "\n",
    "    name = all_recipe_data[0][\"headline\"]\n",
    "    \n",
    "    if url not in df['url']: \n",
    "        df.loc[len(df)] = [url, name, ingredients]\n",
    "\n",
    "    resp.raise_for_status()  # raise for 4xx/5xx\n",
    "    print(f\"Success: {url} (status {resp.status_code})\")\n",
    "\n",
    "    counter += 1\n",
    "    if counter > 1:\n",
    "        break\n",
    "    else:\n",
    "        print(f\"{10 - counter} more links.\")\n",
    "\n",
    "    delay = random.uniform(1, 5)\n",
    "    print(f\"Sleeping {delay:.2f}s before next request...\")\n",
    "    time.sleep(delay)\n",
    "\n"
   ]
  },
  {
   "cell_type": "code",
   "execution_count": 7,
   "id": "62b0e2e6",
   "metadata": {},
   "outputs": [],
   "source": [
    "df.to_csv(\"output.csv\", index= False)"
   ]
  },
  {
   "cell_type": "code",
   "execution_count": 8,
   "id": "3ab91a9b",
   "metadata": {},
   "outputs": [
    {
     "data": {
      "text/plain": [
       "\"['1 1/8 cups milk (warm)', '1/4 cup sugar', '2 1/4 teaspoons instant or active dry yeast (one package)', '2  whole large eggs (beaten)', '1 1/4  stick unsalted butter (melted)', '4 cups all-purpose flour', '1/4 teaspoon salt', '1 1/2 cups whole milk', '1/2 cup granulated sugar', '1/4 cup cake flour', '1/2 teaspoon salt', '4  large egg yolks', '1 teaspoon vanilla extract', '1/2  lime (juice)', '1 tablespoon tequila (optional)', '2 1/2 tablespoons strawberry fruit spread or jam', '1/2 cup cold heavy cream', '1 cup stick butter (softened, 1/2)', '4  strawberries', '1 tablespoon strawberry fruit spread or jam', '1-2 tablespoons milk', '1-2 tablespoons tequila', '1 teaspoon vanilla extract', '1/2  lime (juiced)', '2 1/2 cups powdered sugar', '1 cup powdered suger', '1  lime (juiced)', '1 tablespoon tequila (optional)', 'salt for sprinkling']\""
      ]
     },
     "execution_count": 8,
     "metadata": {},
     "output_type": "execute_result"
    }
   ],
   "source": [
    "ing_df = df['ingredients']\n",
    "ing_df[0]"
   ]
  },
  {
   "cell_type": "code",
   "execution_count": 9,
   "id": "493a1665",
   "metadata": {},
   "outputs": [],
   "source": [
    "resp = requests.get(\"https://www.halfbakedharvest.com/whole-wheat-graham-cracker-banana-bread/\", headers= header)\n",
    "\n",
    "soup = BeautifulSoup(resp.text, \"html.parser\")\n",
    "ingredients = soup.find_all(\"span\", class_ = \"wprm-recipe-ingredient-name\")"
   ]
  },
  {
   "cell_type": "code",
   "execution_count": 10,
   "id": "818b9259",
   "metadata": {},
   "outputs": [
    {
     "name": "stdout",
     "output_type": "stream",
     "text": [
      "['[graham cracker crumbs|https://www.halfbakedharvest.com/honey-bunny-grahams/]', 'whole wheat pastry flour or white whole wheat flour', 'baking soda', 'salt', 'cinnamon', 'eggs', 'loosely packed brown sugar', 'canned coconut milk', 'canola oil', 'very ripe bananas', 'vanilla extract']\n"
     ]
    }
   ],
   "source": [
    "ingredient_list = [span.get_text(strip=True) for span in ingredients]\n",
    "print(ingredient_list)"
   ]
  }
 ],
 "metadata": {
  "kernelspec": {
   "display_name": "Python 3 (ipykernel)",
   "language": "python",
   "name": "python3"
  },
  "language_info": {
   "codemirror_mode": {
    "name": "ipython",
    "version": 3
   },
   "file_extension": ".py",
   "mimetype": "text/x-python",
   "name": "python",
   "nbconvert_exporter": "python",
   "pygments_lexer": "ipython3",
   "version": "3.13.5"
  }
 },
 "nbformat": 4,
 "nbformat_minor": 5
}
