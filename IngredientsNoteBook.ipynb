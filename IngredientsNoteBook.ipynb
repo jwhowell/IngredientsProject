{
 "cells": [
  {
   "cell_type": "code",
   "execution_count": 1,
   "id": "541abf0b",
   "metadata": {},
   "outputs": [],
   "source": [
    "import requests\n",
    "from bs4 import BeautifulSoup\n",
    "import json\n",
    "import random\n",
    "import time\n",
    "import pandas as pd\n",
    "\n",
    "base =\"https://www.halfbakedharvest.com/sitemap_index.xml\"\n",
    "header = {\"User-Agent\": \"ingredient_bot/1.0 (+mailto:jakehowell@duck.com; for educational purposes)\"}"
   ]
  },
  {
   "cell_type": "code",
   "execution_count": 2,
   "id": "4d80268a",
   "metadata": {},
   "outputs": [],
   "source": [
    "def parseXML(url):\n",
    "    site_mapXML = requests.get(url, headers = header,)\n",
    "\n",
    "    soup = BeautifulSoup(site_mapXML.text, \"xml\")\n",
    "\n",
    "    site_maps = []\n",
    "    for loc_tag in soup.find_all(\"loc\"):\n",
    "        loc_tag = loc_tag.get_text(strip = True)\n",
    "        if loc_tag[-3:] == \"jpg\":\n",
    "            continue\n",
    "        elif loc_tag[-3:] != \"jpg\" and loc_tag not in site_maps:\n",
    "            site_maps.append(loc_tag)\n",
    "    return site_maps"
   ]
  },
  {
   "cell_type": "code",
   "execution_count": 3,
   "id": "1ac52e5c",
   "metadata": {},
   "outputs": [
    {
     "name": "stdout",
     "output_type": "stream",
     "text": [
      "['https://www.halfbakedharvest.com/post-sitemap.xml', 'https://www.halfbakedharvest.com/post-sitemap2.xml', 'https://www.halfbakedharvest.com/post-sitemap3.xml', 'https://www.halfbakedharvest.com/post-sitemap4.xml', 'https://www.halfbakedharvest.com/post-sitemap5.xml', 'https://www.halfbakedharvest.com/page-sitemap.xml', 'https://www.halfbakedharvest.com/web-story-sitemap.xml', 'https://www.halfbakedharvest.com/category-sitemap.xml', 'https://www.halfbakedharvest.com/video-sitemap.xml']\n"
     ]
    }
   ],
   "source": [
    "site_map = parseXML(base)\n",
    "print(site_map)\n"
   ]
  },
  {
   "cell_type": "code",
   "execution_count": 4,
   "id": "e74c2ea4",
   "metadata": {},
   "outputs": [
    {
     "data": {
      "text/plain": [
       "['https://www.halfbakedharvest.com/strawberry-margarita-cream-filled-donuts/',\n",
       " 'https://www.halfbakedharvest.com/teriyaki-chicken-sub-sandwiches/',\n",
       " 'https://www.halfbakedharvest.com/tortilla-chip-crusted-chicken-salad-with-avocado-chipotle-lime-dressing-and-queso-fresco/',\n",
       " 'https://www.halfbakedharvest.com/margarita-chicken-quesadilla-with-margarita-guacamole/',\n",
       " 'https://www.halfbakedharvest.com/crunchy-oatmeal-peanut-butter-oats-n-honey-bars/',\n",
       " 'https://www.halfbakedharvest.com/brown-butter-crepe-ice-cream-tacos/',\n",
       " 'https://www.halfbakedharvest.com/whipped-feta-and-roasted-jalapeno-greek-pizza/',\n",
       " 'https://www.halfbakedharvest.com/jerk-chicken-with-fired-rice-and-grilled-pineapple-salsa/',\n",
       " 'https://www.halfbakedharvest.com/chocolate-peanut-butter-swirl-fudge-brownie-ice-cream/',\n",
       " 'https://www.halfbakedharvest.com/cinnamon-crunch-bagels/']"
      ]
     },
     "execution_count": 4,
     "metadata": {},
     "output_type": "execute_result"
    }
   ],
   "source": [
    "links = []\n",
    "links.append(parseXML(site_map[1]))\n",
    "len(links[0])\n",
    "first_ten_links = links[0][0:10]\n",
    "first_ten_links"
   ]
  },
  {
   "cell_type": "code",
   "execution_count": 6,
   "id": "03b8ffb1",
   "metadata": {},
   "outputs": [
    {
     "data": {
      "text/html": [
       "<div>\n",
       "<style scoped>\n",
       "    .dataframe tbody tr th:only-of-type {\n",
       "        vertical-align: middle;\n",
       "    }\n",
       "\n",
       "    .dataframe tbody tr th {\n",
       "        vertical-align: top;\n",
       "    }\n",
       "\n",
       "    .dataframe thead th {\n",
       "        text-align: right;\n",
       "    }\n",
       "</style>\n",
       "<table border=\"1\" class=\"dataframe\">\n",
       "  <thead>\n",
       "    <tr style=\"text-align: right;\">\n",
       "      <th></th>\n",
       "      <th>Url</th>\n",
       "      <th>Name</th>\n",
       "      <th>ingredients</th>\n",
       "      <th>categories</th>\n",
       "    </tr>\n",
       "  </thead>\n",
       "  <tbody>\n",
       "  </tbody>\n",
       "</table>\n",
       "</div>"
      ],
      "text/plain": [
       "Empty DataFrame\n",
       "Columns: [Url,  Name,  ingredients,  categories]\n",
       "Index: []"
      ]
     },
     "execution_count": 6,
     "metadata": {},
     "output_type": "execute_result"
    }
   ],
   "source": [
    "df = pd.read_csv(\"output.csv\")\n",
    "df.head()"
   ]
  },
  {
   "cell_type": "code",
   "execution_count": 7,
   "id": "3616055a",
   "metadata": {},
   "outputs": [
    {
     "name": "stdout",
     "output_type": "stream",
     "text": [
      "Url: https://www.halfbakedharvest.com/strawberry-margarita-cream-filled-donuts/, already exists in dataset\n",
      "Url: https://www.halfbakedharvest.com/teriyaki-chicken-sub-sandwiches/, already exists in dataset\n",
      "Url: https://www.halfbakedharvest.com/tortilla-chip-crusted-chicken-salad-with-avocado-chipotle-lime-dressing-and-queso-fresco/, already exists in dataset\n",
      "Url: https://www.halfbakedharvest.com/margarita-chicken-quesadilla-with-margarita-guacamole/, already exists in dataset\n",
      "Url: https://www.halfbakedharvest.com/crunchy-oatmeal-peanut-butter-oats-n-honey-bars/, already exists in dataset\n",
      "Url: https://www.halfbakedharvest.com/brown-butter-crepe-ice-cream-tacos/, already exists in dataset\n",
      "Url: https://www.halfbakedharvest.com/whipped-feta-and-roasted-jalapeno-greek-pizza/, already exists in dataset\n",
      "Url: https://www.halfbakedharvest.com/jerk-chicken-with-fired-rice-and-grilled-pineapple-salsa/, already exists in dataset\n",
      "Url: https://www.halfbakedharvest.com/chocolate-peanut-butter-swirl-fudge-brownie-ice-cream/, already exists in dataset\n",
      "Url: https://www.halfbakedharvest.com/cinnamon-crunch-bagels/, already exists in dataset\n",
      "Url: https://www.halfbakedharvest.com/death-by-chocolate-cupcakes/, already exists in dataset\n",
      "Url: https://www.halfbakedharvest.com/bani-mi-asian-burgers/, already exists in dataset\n",
      "Url: https://www.halfbakedharvest.com/grilled-banana-bread-peanut-butter-smore-with-vanilla-marshmallows/, already exists in dataset\n",
      "Url: https://www.halfbakedharvest.com/grilled-tex-mex-chicken-and-quinoa-wraps/, already exists in dataset\n",
      "Url: https://www.halfbakedharvest.com/whole-wheat-graham-cracker-banana-bread/, already exists in dataset\n",
      "Url: https://www.halfbakedharvest.com/chocolate-chip-cookie-dough-special-k-bars/, already exists in dataset\n",
      "Url: https://www.halfbakedharvest.com/grilled-buffalo-shrimp-sandwiches-with-spicy-avocado-ranch/, already exists in dataset\n",
      "Url: https://www.halfbakedharvest.com/spring-vegetable-lo-mein/, already exists in dataset\n",
      "Url: https://www.halfbakedharvest.com/honey-mustard-pretzel-crusted-chicken-salad-with-spicy-honey-mustard-dressing/, already exists in dataset\n",
      "Url: https://www.halfbakedharvest.com/homemade-barbecue-sauce-just-like-sweet-baby-rays/, already exists in dataset\n",
      "Url: https://www.halfbakedharvest.com/ridiculously-easy-no-bake-peanut-butter-pretzel-cookies/, already exists in dataset\n",
      "Url: https://www.halfbakedharvest.com/double-baked-fries-with-garlic-cheese-sauce-and-bacon/, already exists in dataset\n",
      "Url: https://www.halfbakedharvest.com/chipotle-mexican-steak-and-rice-burritos/, already exists in dataset\n",
      "Url: https://www.halfbakedharvest.com/gooey-chocolate-oreo-crunch-butter-cake/, already exists in dataset\n",
      "Url: https://www.halfbakedharvest.com/greek-tuna-sun-dried-tomato-avocado-napoleons/, already exists in dataset\n",
      "Url: https://www.halfbakedharvest.com/toasted-coconut-caramel-chocolate-cupcakes/, already exists in dataset\n",
      "Url: https://www.halfbakedharvest.com/roasted-garlic-chipotle-cheddar-sweet-potato-burgers-with-avocado-ranch/, already exists in dataset\n",
      "Url: https://www.halfbakedharvest.com/homemade-dq-reeses-peanut-butter-eggs-blizzard/, already exists in dataset\n",
      "Url: https://www.halfbakedharvest.com/spinach-and-artichoke-pizza/, already exists in dataset\n",
      "Url: https://www.halfbakedharvest.com/avocado-and-vietnamese-chicken-springs-rolls/, already exists in dataset\n",
      "Url: https://www.halfbakedharvest.com/super-healthy-breakfast-or-anytime-cookies/, already exists in dataset\n",
      "Url: https://www.halfbakedharvest.com/roasted-asparagus-caprese-melts-with-balsamic-reduction-and-fried-egg/, already exists in dataset\n",
      "Url: https://www.halfbakedharvest.com/chocolate-covered-peanut-butter-ritz-sandwiches-the-bunny-edition/, already exists in dataset\n",
      "Success: https://www.halfbakedharvest.com/asian-grilled-salmon-pineapple-and-rice-lettuce-wraps/ (status 200)\n",
      "9 more links.\n",
      "Sleeping 2.84s before next request...\n",
      "Success: https://www.halfbakedharvest.com/lightened-up-chocolate-peanut-butter-upside-down-banana-cake/ (status 200)\n"
     ]
    }
   ],
   "source": [
    "s = requests.Session()\n",
    "counter = 0\n",
    "\n",
    "for url in links[0]:\n",
    "    if url in set(df['url'].values):\n",
    "        print(f\"Url: {url}, already exists in dataset\")\n",
    "        continue\n",
    "    resp = s.get(url, headers = header)\n",
    "    soup = BeautifulSoup(resp.text, \"html.parser\")\n",
    "\n",
    "    scripts = soup.find(\"script\", type = \"application/ld+json\")\n",
    "    data = json.loads(scripts.string)\n",
    "\n",
    "    all_recipe_data = data[\"@graph\"]\n",
    "    for obj in all_recipe_data:\n",
    "        if obj[\"@type\"] == \"Recipe\":\n",
    "            recipe = obj\n",
    "    ingredients = recipe[\"recipeIngredient\"]\n",
    "\n",
    "    name = all_recipe_data[0][\"headline\"]\n",
    "    \n",
    "    if url not in df['url']: \n",
    "        df.loc[len(df)] = [url, name, ingredients]\n",
    "\n",
    "    resp.raise_for_status()  # raise for 4xx/5xx\n",
    "    print(f\"Success: {url} (status {resp.status_code})\")\n",
    "\n",
    "    counter += 1\n",
    "    if counter > 1:\n",
    "        break\n",
    "    else:\n",
    "        print(f\"{10 - counter} more links.\")\n",
    "\n",
    "    delay = random.uniform(1, 5)\n",
    "    print(f\"Sleeping {delay:.2f}s before next request...\")\n",
    "    time.sleep(delay)\n",
    "\n"
   ]
  },
  {
   "cell_type": "code",
   "execution_count": 8,
   "id": "62b0e2e6",
   "metadata": {},
   "outputs": [],
   "source": [
    "df.to_csv(\"output.csv\", index= False)"
   ]
  },
  {
   "cell_type": "code",
   "execution_count": 10,
   "id": "3ab91a9b",
   "metadata": {},
   "outputs": [],
   "source": [
    "df['ingredients'].to_csv('ingredients.csv', index = False)"
   ]
  }
 ],
 "metadata": {
  "kernelspec": {
   "display_name": ".venv",
   "language": "python",
   "name": "python3"
  },
  "language_info": {
   "codemirror_mode": {
    "name": "ipython",
    "version": 3
   },
   "file_extension": ".py",
   "mimetype": "text/x-python",
   "name": "python",
   "nbconvert_exporter": "python",
   "pygments_lexer": "ipython3",
   "version": "3.12.3"
  }
 },
 "nbformat": 4,
 "nbformat_minor": 5
}
