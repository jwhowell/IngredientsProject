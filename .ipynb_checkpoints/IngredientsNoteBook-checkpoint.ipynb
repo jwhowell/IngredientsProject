{
 "cells": [
  {
   "cell_type": "code",
   "execution_count": 19,
   "id": "541abf0b",
   "metadata": {},
   "outputs": [],
   "source": [
    "import requests\n",
    "from bs4 import BeautifulSoup\n",
    "import json\n",
    "import random\n",
    "import time\n",
    "import pandas as pd\n",
    "\n",
    "base =\"https://www.halfbakedharvest.com/sitemap_index.xml\"\n",
    "header = {\"User-Agent\": \"ingredient_bot/1.0 (+mailto:jakehowell@duck.com; for educational purposes)\"}"
   ]
  },
  {
   "cell_type": "code",
   "execution_count": 20,
   "id": "4d80268a",
   "metadata": {},
   "outputs": [],
   "source": [
    "def parseXML(url):\n",
    "    site_mapXML = requests.get(url, headers = header,)\n",
    "\n",
    "    soup = BeautifulSoup(site_mapXML.text, \"xml\")\n",
    "\n",
    "    site_maps = []\n",
    "    for loc_tag in soup.find_all(\"loc\"):\n",
    "        loc_tag = loc_tag.get_text(strip = True)\n",
    "        if loc_tag[-3:] == \"jpg\":\n",
    "            continue\n",
    "        elif loc_tag[-3:] != \"jpg\" and loc_tag not in site_maps:\n",
    "            site_maps.append(loc_tag)\n",
    "    return site_maps"
   ]
  },
  {
   "cell_type": "code",
   "execution_count": 21,
   "id": "1ac52e5c",
   "metadata": {},
   "outputs": [
    {
     "name": "stdout",
     "output_type": "stream",
     "text": [
      "['https://www.halfbakedharvest.com/post-sitemap.xml', 'https://www.halfbakedharvest.com/post-sitemap2.xml', 'https://www.halfbakedharvest.com/post-sitemap3.xml', 'https://www.halfbakedharvest.com/post-sitemap4.xml', 'https://www.halfbakedharvest.com/post-sitemap5.xml', 'https://www.halfbakedharvest.com/page-sitemap.xml', 'https://www.halfbakedharvest.com/web-story-sitemap.xml', 'https://www.halfbakedharvest.com/category-sitemap.xml', 'https://www.halfbakedharvest.com/video-sitemap.xml']\n"
     ]
    }
   ],
   "source": [
    "site_map = parseXML(base)\n",
    "print(site_map)\n"
   ]
  },
  {
   "cell_type": "code",
   "execution_count": 22,
   "id": "e74c2ea4",
   "metadata": {},
   "outputs": [
    {
     "data": {
      "text/plain": [
       "['https://www.halfbakedharvest.com/strawberry-margarita-cream-filled-donuts/',\n",
       " 'https://www.halfbakedharvest.com/teriyaki-chicken-sub-sandwiches/',\n",
       " 'https://www.halfbakedharvest.com/tortilla-chip-crusted-chicken-salad-with-avocado-chipotle-lime-dressing-and-queso-fresco/',\n",
       " 'https://www.halfbakedharvest.com/margarita-chicken-quesadilla-with-margarita-guacamole/',\n",
       " 'https://www.halfbakedharvest.com/crunchy-oatmeal-peanut-butter-oats-n-honey-bars/',\n",
       " 'https://www.halfbakedharvest.com/brown-butter-crepe-ice-cream-tacos/',\n",
       " 'https://www.halfbakedharvest.com/whipped-feta-and-roasted-jalapeno-greek-pizza/',\n",
       " 'https://www.halfbakedharvest.com/jerk-chicken-with-fired-rice-and-grilled-pineapple-salsa/',\n",
       " 'https://www.halfbakedharvest.com/chocolate-peanut-butter-swirl-fudge-brownie-ice-cream/',\n",
       " 'https://www.halfbakedharvest.com/cinnamon-crunch-bagels/']"
      ]
     },
     "execution_count": 22,
     "metadata": {},
     "output_type": "execute_result"
    }
   ],
   "source": [
    "links = []\n",
    "links.append(parseXML(site_map[1]))\n",
    "len(links[0])\n",
    "first_ten_links = links[0][0:10]\n",
    "first_ten_links"
   ]
  },
  {
   "cell_type": "code",
   "execution_count": 31,
   "id": "03b8ffb1",
   "metadata": {},
   "outputs": [
    {
     "data": {
      "text/html": [
       "<div>\n",
       "<style scoped>\n",
       "    .dataframe tbody tr th:only-of-type {\n",
       "        vertical-align: middle;\n",
       "    }\n",
       "\n",
       "    .dataframe tbody tr th {\n",
       "        vertical-align: top;\n",
       "    }\n",
       "\n",
       "    .dataframe thead th {\n",
       "        text-align: right;\n",
       "    }\n",
       "</style>\n",
       "<table border=\"1\" class=\"dataframe\">\n",
       "  <thead>\n",
       "    <tr style=\"text-align: right;\">\n",
       "      <th></th>\n",
       "      <th>recipe_name</th>\n",
       "      <th>date_published</th>\n",
       "      <th>url</th>\n",
       "      <th>ingredients</th>\n",
       "      <th>Keywords</th>\n",
       "    </tr>\n",
       "  </thead>\n",
       "  <tbody>\n",
       "  </tbody>\n",
       "</table>\n",
       "</div>"
      ],
      "text/plain": [
       "Empty DataFrame\n",
       "Columns: [recipe_name, date_published, url, ingredients, Keywords]\n",
       "Index: []"
      ]
     },
     "execution_count": 31,
     "metadata": {},
     "output_type": "execute_result"
    }
   ],
   "source": [
    "df = pd.read_csv(\"output.csv\")\n",
    "df.head()"
   ]
  },
  {
   "cell_type": "code",
   "execution_count": 32,
   "id": "493a1665",
   "metadata": {},
   "outputs": [
    {
     "data": {
      "text/plain": [
       "Index(['recipe_name', 'date_published', 'url', 'ingredients', 'Keywords'], dtype='object')"
      ]
     },
     "execution_count": 32,
     "metadata": {},
     "output_type": "execute_result"
    }
   ],
   "source": [
    "df.columns"
   ]
  },
  {
   "cell_type": "code",
   "execution_count": 33,
   "id": "95139ea7-6cfd-40a8-a1e7-ca1265e5e23f",
   "metadata": {},
   "outputs": [
    {
     "name": "stdout",
     "output_type": "stream",
     "text": [
      "Success: https://www.halfbakedharvest.com/strawberry-margarita-cream-filled-donuts/ (status 200)\n",
      "9 more links.\n",
      "Sleeping 1.78s before next request...\n",
      "Success: https://www.halfbakedharvest.com/teriyaki-chicken-sub-sandwiches/ (status 200)\n",
      "8 more links.\n",
      "Sleeping 3.41s before next request...\n",
      "Success: https://www.halfbakedharvest.com/tortilla-chip-crusted-chicken-salad-with-avocado-chipotle-lime-dressing-and-queso-fresco/ (status 200)\n",
      "7 more links.\n",
      "Sleeping 2.83s before next request...\n",
      "Success: https://www.halfbakedharvest.com/margarita-chicken-quesadilla-with-margarita-guacamole/ (status 200)\n",
      "6 more links.\n",
      "Sleeping 2.01s before next request...\n",
      "Success: https://www.halfbakedharvest.com/crunchy-oatmeal-peanut-butter-oats-n-honey-bars/ (status 200)\n",
      "5 more links.\n",
      "Sleeping 2.39s before next request...\n",
      "Success: https://www.halfbakedharvest.com/brown-butter-crepe-ice-cream-tacos/ (status 200)\n",
      "4 more links.\n",
      "Sleeping 3.05s before next request...\n",
      "Success: https://www.halfbakedharvest.com/whipped-feta-and-roasted-jalapeno-greek-pizza/ (status 200)\n",
      "3 more links.\n",
      "Sleeping 1.30s before next request...\n",
      "Success: https://www.halfbakedharvest.com/jerk-chicken-with-fired-rice-and-grilled-pineapple-salsa/ (status 200)\n",
      "2 more links.\n",
      "Sleeping 2.20s before next request...\n",
      "Success: https://www.halfbakedharvest.com/chocolate-peanut-butter-swirl-fudge-brownie-ice-cream/ (status 200)\n",
      "1 more links.\n",
      "Sleeping 1.96s before next request...\n",
      "Success: https://www.halfbakedharvest.com/cinnamon-crunch-bagels/ (status 200)\n",
      "0 more links.\n",
      "Sleeping 3.97s before next request...\n",
      "Success: https://www.halfbakedharvest.com/death-by-chocolate-cupcakes/ (status 200)\n"
     ]
    }
   ],
   "source": [
    "s = requests.Session()\n",
    "counter = 0\n",
    "\n",
    "for url in links[0]:\n",
    "    if url in set(df['url'].values):\n",
    "        print(f\"Url: {url}, already exists in dataset\")\n",
    "        continue\n",
    "    resp = s.get(url, headers = header)\n",
    "    soup = BeautifulSoup(resp.text, \"html.parser\")\n",
    "\n",
    "    scripts = soup.find(\"script\", type = \"application/ld+json\")\n",
    "    data = json.loads(scripts.string)\n",
    "    info = data[\"@graph\"][0]\n",
    "    headline = info[\"headline\"]\n",
    "    keywords = info[\"keywords\"]\n",
    "    date_published = info[\"datePublished\"]\n",
    "\n",
    "    ingredients = soup.find_all(\"span\", class_ = \"wprm-recipe-ingredient-name\")\n",
    "    ingredient_list = [span.get_text(strip=True) for span in ingredients]\n",
    "    \n",
    "    if url not in df['url']: \n",
    "        df.loc[len(df)] = [headline, date_published, url, ingredient_list, keywords]\n",
    "\n",
    "    resp.raise_for_status()  # raise for 4xx/5xx\n",
    "    print(f\"Success: {url} (status {resp.status_code})\")\n",
    "\n",
    "    counter += 1\n",
    "    if counter > 10:\n",
    "        break\n",
    "    else:\n",
    "        print(f\"{10 - counter} more links.\")\n",
    "\n",
    "    delay = random.uniform(1, 5)\n",
    "    print(f\"Sleeping {delay:.2f}s before next request...\")\n",
    "    time.sleep(delay)\n"
   ]
  },
  {
   "cell_type": "code",
   "execution_count": 34,
   "id": "62b0e2e6",
   "metadata": {},
   "outputs": [],
   "source": [
    "df.to_csv(\"output.csv\", index= False)"
   ]
  },
  {
   "cell_type": "code",
   "execution_count": 36,
   "id": "64f7ccdf-6895-4f02-93e0-63c9187ec8d3",
   "metadata": {},
   "outputs": [
    {
     "data": {
      "text/html": [
       "<div>\n",
       "<style scoped>\n",
       "    .dataframe tbody tr th:only-of-type {\n",
       "        vertical-align: middle;\n",
       "    }\n",
       "\n",
       "    .dataframe tbody tr th {\n",
       "        vertical-align: top;\n",
       "    }\n",
       "\n",
       "    .dataframe thead th {\n",
       "        text-align: right;\n",
       "    }\n",
       "</style>\n",
       "<table border=\"1\" class=\"dataframe\">\n",
       "  <thead>\n",
       "    <tr style=\"text-align: right;\">\n",
       "      <th></th>\n",
       "      <th>recipe_name</th>\n",
       "      <th>date_published</th>\n",
       "      <th>url</th>\n",
       "      <th>ingredients</th>\n",
       "      <th>Keywords</th>\n",
       "    </tr>\n",
       "  </thead>\n",
       "  <tbody>\n",
       "    <tr>\n",
       "      <th>0</th>\n",
       "      <td>Strawberry Margarita Cream Filled Donuts</td>\n",
       "      <td>2013-05-03T10:00:51+00:00</td>\n",
       "      <td>https://www.halfbakedharvest.com/strawberry-ma...</td>\n",
       "      <td>[milk, sugar, instant or active dry yeast, who...</td>\n",
       "      <td>[cinco de mayo, donut, doughnut, margarita, sp...</td>\n",
       "    </tr>\n",
       "    <tr>\n",
       "      <th>1</th>\n",
       "      <td>Teriyaki Chicken Sub Sandwiches</td>\n",
       "      <td>2013-05-02T10:00:06+00:00</td>\n",
       "      <td>https://www.halfbakedharvest.com/teriyaki-chic...</td>\n",
       "      <td>[boneless skinless chicken, red bell pepper, a...</td>\n",
       "      <td>[asian, Chicken, Chinese, dinner teriyaki, lun...</td>\n",
       "    </tr>\n",
       "    <tr>\n",
       "      <th>2</th>\n",
       "      <td>Tortilla Chip Crusted Chicken Salad with Avoca...</td>\n",
       "      <td>2013-05-01T10:00:16+00:00</td>\n",
       "      <td>https://www.halfbakedharvest.com/tortilla-chip...</td>\n",
       "      <td>[boneless, salt, pepper, egg whites, finely cr...</td>\n",
       "      <td>[avocado, Chicken, chipotle, cinco de mayo, Ea...</td>\n",
       "    </tr>\n",
       "    <tr>\n",
       "      <th>3</th>\n",
       "      <td>Margarita Chicken Quesadilla with Margarita Gu...</td>\n",
       "      <td>2013-04-29T10:00:14+00:00</td>\n",
       "      <td>https://www.halfbakedharvest.com/margarita-chi...</td>\n",
       "      <td>[boneless skinless chicken breast or tenders, ...</td>\n",
       "      <td>[avocado, Chicken, cinco de mayo, dinner, guac...</td>\n",
       "    </tr>\n",
       "    <tr>\n",
       "      <th>4</th>\n",
       "      <td>Crunchy Oatmeal Peanut Butter Oats &amp;#8216;n Ho...</td>\n",
       "      <td>2013-04-28T10:00:28+00:00</td>\n",
       "      <td>https://www.halfbakedharvest.com/crunchy-oatme...</td>\n",
       "      <td>[rolled oats, rice crispies cereal, roasted pe...</td>\n",
       "      <td>[bars, crunchy, Healthy, nature valley, oatmea...</td>\n",
       "    </tr>\n",
       "  </tbody>\n",
       "</table>\n",
       "</div>"
      ],
      "text/plain": [
       "                                         recipe_name  \\\n",
       "0           Strawberry Margarita Cream Filled Donuts   \n",
       "1                    Teriyaki Chicken Sub Sandwiches   \n",
       "2  Tortilla Chip Crusted Chicken Salad with Avoca...   \n",
       "3  Margarita Chicken Quesadilla with Margarita Gu...   \n",
       "4  Crunchy Oatmeal Peanut Butter Oats &#8216;n Ho...   \n",
       "\n",
       "              date_published  \\\n",
       "0  2013-05-03T10:00:51+00:00   \n",
       "1  2013-05-02T10:00:06+00:00   \n",
       "2  2013-05-01T10:00:16+00:00   \n",
       "3  2013-04-29T10:00:14+00:00   \n",
       "4  2013-04-28T10:00:28+00:00   \n",
       "\n",
       "                                                 url  \\\n",
       "0  https://www.halfbakedharvest.com/strawberry-ma...   \n",
       "1  https://www.halfbakedharvest.com/teriyaki-chic...   \n",
       "2  https://www.halfbakedharvest.com/tortilla-chip...   \n",
       "3  https://www.halfbakedharvest.com/margarita-chi...   \n",
       "4  https://www.halfbakedharvest.com/crunchy-oatme...   \n",
       "\n",
       "                                         ingredients  \\\n",
       "0  [milk, sugar, instant or active dry yeast, who...   \n",
       "1  [boneless skinless chicken, red bell pepper, a...   \n",
       "2  [boneless, salt, pepper, egg whites, finely cr...   \n",
       "3  [boneless skinless chicken breast or tenders, ...   \n",
       "4  [rolled oats, rice crispies cereal, roasted pe...   \n",
       "\n",
       "                                            Keywords  \n",
       "0  [cinco de mayo, donut, doughnut, margarita, sp...  \n",
       "1  [asian, Chicken, Chinese, dinner teriyaki, lun...  \n",
       "2  [avocado, Chicken, chipotle, cinco de mayo, Ea...  \n",
       "3  [avocado, Chicken, cinco de mayo, dinner, guac...  \n",
       "4  [bars, crunchy, Healthy, nature valley, oatmea...  "
      ]
     },
     "execution_count": 36,
     "metadata": {},
     "output_type": "execute_result"
    }
   ],
   "source": [
    "df.head()"
   ]
  },
  {
   "cell_type": "code",
   "execution_count": null,
   "id": "c142b69c-1126-4f91-9b2c-7f8f96af09b8",
   "metadata": {},
   "outputs": [],
   "source": []
  },
  {
   "cell_type": "code",
   "execution_count": null,
   "id": "b5786819-24ce-4c37-8add-4bca536adbf0",
   "metadata": {},
   "outputs": [],
   "source": []
  },
  {
   "cell_type": "code",
   "execution_count": null,
   "id": "bd588e3b-5414-4097-b3c5-0b652e0d6cf7",
   "metadata": {},
   "outputs": [],
   "source": []
  },
  {
   "cell_type": "code",
   "execution_count": null,
   "id": "84618e8b-6133-4d47-bb41-3f9cd808216f",
   "metadata": {},
   "outputs": [],
   "source": []
  },
  {
   "cell_type": "code",
   "execution_count": null,
   "id": "2a20ae9d-7b37-4398-875c-5607cedfb9b4",
   "metadata": {},
   "outputs": [],
   "source": []
  },
  {
   "cell_type": "code",
   "execution_count": null,
   "id": "4fd75f0e-1849-46c7-b98d-bbae0d892e8c",
   "metadata": {},
   "outputs": [],
   "source": []
  }
 ],
 "metadata": {
  "kernelspec": {
   "display_name": "Python 3 (ipykernel)",
   "language": "python",
   "name": "python3"
  },
  "language_info": {
   "codemirror_mode": {
    "name": "ipython",
    "version": 3
   },
   "file_extension": ".py",
   "mimetype": "text/x-python",
   "name": "python",
   "nbconvert_exporter": "python",
   "pygments_lexer": "ipython3",
   "version": "3.13.5"
  }
 },
 "nbformat": 4,
 "nbformat_minor": 5
}
